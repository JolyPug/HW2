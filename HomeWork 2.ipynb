{
 "cells": [
  {
   "cell_type": "code",
   "execution_count": 1,
   "id": "bc0ef0f4",
   "metadata": {},
   "outputs": [],
   "source": [
    "documents = [\n",
    "{'type': 'passport', 'number': '2207 876234', 'name': 'Василий Гупкин'},\n",
    "{'type': 'invoice', 'number': '11-2', 'name': 'Геннадий Покемонов'},\n",
    "{'type': 'insurance', 'number': '10006', 'name': 'Аристарх Павлов'}\n",
    "]\n",
    "\n",
    "directories = {\n",
    "'1': ['2207 876234', '11-2'],\n",
    "'2': ['10006'],\n",
    "'3': []\n",
    "}"
   ]
  },
  {
   "cell_type": "code",
   "execution_count": 2,
   "id": "200548a0",
   "metadata": {},
   "outputs": [],
   "source": [
    "def owner(number_doc):\n",
    "    \"\"\"\n",
    "    Функция возвращает по номеру документа данные о его владельце\n",
    "    \"\"\"\n",
    "    owner_name = ''\n",
    "    for row in documents:\n",
    "        if row['number'] == number_doc:\n",
    "            owner_name = 'Владелец документа: ' + row['name']\n",
    "    if owner_name == '': \n",
    "        owner_name = 'Документ не найден в базе'\n",
    "    return owner_name"
   ]
  },
  {
   "cell_type": "code",
   "execution_count": 3,
   "id": "d235d88d",
   "metadata": {},
   "outputs": [],
   "source": [
    "def doc_dir(number_doc):\n",
    "    \"\"\"\n",
    "    Функция возвращает по номеру документа данные о месте хранения\n",
    "    \"\"\"\n",
    "    shelf = ''\n",
    "    for item, values in directories.items():\n",
    "        if number_doc in values:\n",
    "            shelf = 'Документ хранится на полке: ' + item\n",
    "    if shelf == '':\n",
    "        shelf='Документ не найден в базе'\n",
    "    return shelf"
   ]
  },
  {
   "cell_type": "code",
   "execution_count": 4,
   "id": "7d5a6ea4",
   "metadata": {},
   "outputs": [],
   "source": [
    "def list_doc():\n",
    "    \"\"\"\n",
    "    Функция возвращает список документов на полках\n",
    "    \"\"\"\n",
    "    for i in documents:\n",
    "        for item, values in directories.items():\n",
    "            if i['number'] in values:\n",
    "                print('№ ' + i['number'] + ', тип: ' + i['type'] + ', владелец: ' + i['name'] + ', полка хранения: ' + item)"
   ]
  },
  {
   "cell_type": "code",
   "execution_count": 5,
   "id": "e2ea31f0",
   "metadata": {},
   "outputs": [],
   "source": [
    "def list_shelf():\n",
    "    \"\"\"\n",
    "    Функция возвращает список полок\n",
    "    \"\"\"    \n",
    "    listshelf = ''\n",
    "    for item, values in directories.items():\n",
    "        listshelf = listshelf + item + ',' \n",
    "    listshelf = listshelf[:-1] + '.'\n",
    "    return listshelf"
   ]
  },
  {
   "cell_type": "code",
   "execution_count": 6,
   "id": "4041368e",
   "metadata": {},
   "outputs": [],
   "source": [
    "def del_shelf(number_shelf):\n",
    "    \"\"\"\n",
    "    Функция удаляе полку, если она не пустая\n",
    "    \"\"\"\n",
    "    count = 0\n",
    "    for item, values in directories.items():\n",
    "        if number_shelf in item:\n",
    "            count = 1\n",
    "            if values != []:\n",
    "                count = 2\n",
    "    if count == 1:\n",
    "        del directories[number_shelf]\n",
    "        print('Полка удалена. Текущий перечень полок: '+ list_shelf())\n",
    "    elif count == 2:\n",
    "        print('На полке есть документа, удалите их перед удалением полки. Текущий перечень полок: ' + list_shelf())\n",
    "    else:\n",
    "        print('Такая полка не существует. Текущий перечень полок: ' + list_shelf())"
   ]
  },
  {
   "cell_type": "code",
   "execution_count": 7,
   "id": "cd5a5ee2",
   "metadata": {},
   "outputs": [],
   "source": [
    "def add_shelf(number_shelf):\n",
    "    \"\"\"\n",
    "    Функция добавляет полку, если такой ещё нет\n",
    "    \"\"\"    \n",
    "    count = 0\n",
    "    for item, values in directories.items():\n",
    "        if number_shelf in item:\n",
    "            count = 1\n",
    "    if count == 1:\n",
    "        print('Такая полка уже существует. Текущий перечень полок: ' + list_shelf())\n",
    "    else:\n",
    "        directories[number_shelf]=[]\n",
    "        print('Полка добавлена. Текущий перечень полок: '+ list_shelf())"
   ]
  },
  {
   "cell_type": "code",
   "execution_count": 8,
   "id": "5e076539",
   "metadata": {},
   "outputs": [],
   "source": [
    "def main():\n",
    "    \"\"\"\n",
    "    Основная функция автоматизации работы секретаря\n",
    "    \"\"\"\n",
    "    a = 0\n",
    "    while a < 1:\n",
    "        command_input=input('Введите команду: \\n')\n",
    "        if command_input == 'p':\n",
    "            number_input=input('Введите номер документа: \\n')\n",
    "            print(owner(number_input))\n",
    "        elif command_input == 's':\n",
    "            number_input=input('Введите номер документа: \\n')\n",
    "            print(doc_dir(number_input))\n",
    "        elif command_input == 'l':\n",
    "            list_doc()\n",
    "        elif command_input == 'as':\n",
    "            number_input=input('Введите номер полки: \\n')\n",
    "            add_shelf(number_input)\n",
    "        elif command_input == 'ds':\n",
    "            number_input=input('Введите номер полки: \\n')\n",
    "            del_shelf(number_input)\n",
    "        elif command_input == 'q':\n",
    "            break\n",
    "        else:\n",
    "            print('Нет такой команды')"
   ]
  },
  {
   "cell_type": "code",
   "execution_count": null,
   "id": "0f9aa598",
   "metadata": {},
   "outputs": [
    {
     "name": "stdout",
     "output_type": "stream",
     "text": [
      "Введите команду: \n",
      "p\n",
      "Введите номер документа: \n",
      "1006\n",
      "Документ не найден в базе\n",
      "Введите команду: \n",
      "p\n",
      "Введите номер документа: \n",
      "10006\n",
      "Владелец документа: Аристарх Павлов\n",
      "Введите команду: \n",
      "s\n",
      "Введите номер документа: \n",
      "10006\n",
      "Документ хранится на полке: 2\n",
      "Введите команду: \n",
      "i\n",
      "Нет такой команды\n",
      "Введите команду: \n",
      "l\n",
      "№ 2207 876234, тип: passport, владелец: Василий Гупкин, полка хранения: 1\n",
      "№ 11-2, тип: invoice, владелец: Геннадий Покемонов, полка хранения: 1\n",
      "№ 10006, тип: insurance, владелец: Аристарх Павлов, полка хранения: 2\n",
      "Введите команду: \n",
      "ads\n",
      "Нет такой команды\n",
      "Введите команду: \n",
      "as\n",
      "Введите номер полки: \n",
      "10\n",
      "Полка добавлена. Текущий перечень полок: 1,2,3,10.\n"
     ]
    }
   ],
   "source": [
    "main()"
   ]
  },
  {
   "cell_type": "code",
   "execution_count": null,
   "id": "cb77f286",
   "metadata": {},
   "outputs": [],
   "source": []
  }
 ],
 "metadata": {
  "kernelspec": {
   "display_name": "Python 3 (ipykernel)",
   "language": "python",
   "name": "python3"
  },
  "language_info": {
   "codemirror_mode": {
    "name": "ipython",
    "version": 3
   },
   "file_extension": ".py",
   "mimetype": "text/x-python",
   "name": "python",
   "nbconvert_exporter": "python",
   "pygments_lexer": "ipython3",
   "version": "3.9.13"
  }
 },
 "nbformat": 4,
 "nbformat_minor": 5
}
